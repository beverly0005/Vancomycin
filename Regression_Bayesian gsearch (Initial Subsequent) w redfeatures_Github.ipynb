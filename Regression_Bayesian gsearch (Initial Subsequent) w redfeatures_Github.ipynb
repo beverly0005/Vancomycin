{
 "cells": [
  {
   "cell_type": "markdown",
   "metadata": {},
   "source": [
    "Modified from _v6"
   ]
  },
  {
   "cell_type": "markdown",
   "metadata": {},
   "source": [
    "# Import Libraries"
   ]
  },
  {
   "cell_type": "code",
   "execution_count": 1,
   "metadata": {},
   "outputs": [
    {
     "name": "stderr",
     "output_type": "stream",
     "text": [
      "d:\\program\\python37\\lib\\site-packages\\statsmodels\\tools\\_testing.py:19: FutureWarning: pandas.util.testing is deprecated. Use the functions in the public API at pandas.testing instead.\n",
      "  import pandas.util.testing as tm\n"
     ]
    }
   ],
   "source": [
    "import pandas as pd\n",
    "import numpy as np\n",
    "from sklearn import metrics\n",
    "from sklearn.model_selection import train_test_split, GridSearchCV\n",
    "from hyperopt import STATUS_OK, hp, tpe, Trials, fmin\n",
    "from random import sample\n",
    "\n",
    "import pickle\n",
    "import xgboost as xgb\n",
    "from xgboost import plot_importance\n",
    "import lightgbm as lgb\n",
    "\n",
    "import matplotlib.pyplot as plt\n",
    "import seaborn as sns\n",
    "import numpy as np\n",
    "\n",
    "import warnings\n",
    "warnings.filterwarnings('ignore')"
   ]
  },
  {
   "cell_type": "markdown",
   "metadata": {},
   "source": [
    "# User-Defined Parameters"
   ]
  },
  {
   "cell_type": "code",
   "execution_count": 2,
   "metadata": {},
   "outputs": [],
   "source": [
    "DATAPATH = ''\n",
    "MODELPATH = ''\n",
    "\n",
    "DATAFILE = 'newcohort_features_addtmp_moddailycohort_priordailydose.csv'\n",
    "MODELFILE = 'model.pkl'\n",
    "\n",
    "TARGET_VAR = 'daily accept inj level_mod'\n",
    "SEP_VAR = 'Patient ID (Fact)'\n",
    "RANDOM_STATE = 1234\n",
    "EVAL_METRIC = 'mae'\n",
    "EARLYSTOP = 200"
   ]
  },
  {
   "cell_type": "code",
   "execution_count": 3,
   "metadata": {},
   "outputs": [],
   "source": [
    "SPACE = {\n",
    "    'colsample_bytree': hp.uniform('colsample_bytree', 0, 1),\n",
    "    'learning_rate': hp.loguniform('learning_rate', np.log(0.01), np.log(0.1)),\n",
    "    'n_estimators': hp.choice('n_estimators', np.arange(200, 1000, dtype=int)),\n",
    "    'colsample_bylevel': hp.uniform('colsample_bylevel', 0.3, 1),\n",
    "    'max_depth': hp.choice('max_depth', np.arange(3, 10, dtype=int)),\n",
    "    'subsample': hp.uniform('subsample', 0.5, 1), \n",
    "    'reg_alpha': hp.uniform('reg_alpha', 0, 1),\n",
    "    'reg_lambda': hp.uniform('reg_lambda', 0, 1)\n",
    "}"
   ]
  },
  {
   "cell_type": "code",
   "execution_count": 4,
   "metadata": {},
   "outputs": [],
   "source": [
    "SELECTVARS = [\n",
    "       'Patient ID (Fact)', 'Race',\n",
    "       'Female', 'Age', 'Height_cm', 'Weight_kg',\n",
    "       'Actual Last Vanco Test', 'Duration Since Actual Last Vanco Test',\n",
    "       'Second Actual Prior Vanco Test',\n",
    "       'Duration Since Second Actual Prior Vanco Test',\n",
    "       'Freq', 'Actual Second Prior Daily Dose', 'Actual Prior Daily Dose',\n",
    "       'daily accept inj level_mod', \n",
    "       'Prior Vancomycin Lab Level', 'Prior Daily Dose',\n",
    "       'Second Prior Vancomycin Lab Level', 'Second Prior Daily Dose',\n",
    "       'SC_lasttime', 'SC_secondlasttime',\n",
    "       'BILIRUBIN_lasttime', 'ALP_lasttime',\n",
    "       'ALT_lasttime', 'AST_lasttime', 'ALBUMIN_lasttime', 'WBC_lasttime',\n",
    "       'CRP_lasttime', 'PROCALCITONIN_lasttime', 'haemodialysis',\n",
    "       'peritoneal', 'Culture_lasttime', \n",
    "       'NUM_CCI', 'CCI_S_LIVER',\n",
    "       'CCI_DIABETES_LONG', 'CCI_RENAL', 'CCI_PULMONARY', 'CCI_P_ULCER',\n",
    "       'CCI_CVA', 'CCI_MI', 'CCI_CHF', 'CCI_M_CANCER', 'CCI_TISSUE',\n",
    "       'CCI_M_LIVER', 'CCI_PVA', 'CCI_HEMI_PARA', 'CCI_CANCER',\n",
    "       'NUM_CDMS', 'CDMS_COPD',\n",
    "       'CDMS_SCHIZOPHRENIA', 'CDMS_DEMENTIA', 'CDMS_S_STROKE', 'CDMS_CHD',\n",
    "       'CDMS_DM', 'CDMS_ASTHMA', 'CDMS_HF', 'CDMS_HYPERTENSION',\n",
    "       'CDMS_RENAL', 'CDMS_HIP_FRACTURE', 'CDMS_WEIGHT',\n",
    "       'CDMS_OSTEOPOROSIS', 'CDMS_ANXIETY', 'CDMS_STROKE',\n",
    "       'CDMS_SPINE_FRACTURE', 'CDMS_DYSLIPIDAEMIA', 'GRPD', 'GRPN',\n",
    "       'GRPB', 'GRPA', 'GRPC', 'GRPJ', 'GRPR', 'GRPV', 'GRPM', 'GRPA10A',\n",
    "       'GRPS', 'GRPG', 'GRPL', 'GRPH', 'GRPP', 'Elderly_Flag', 'Vd_vanc',\n",
    "       'TBW_Crcl_max150', 'AdjBW_Crcl_max150', 'IBW_Crcl_max150',\n",
    "       'TBW_RoundSCr_Crcl_max150', 'Clvanc_TBW', 'Clvanc_Adj',\n",
    "       'Clvanc_IBW', 'Clvanc_TBW_round', 't12_TBW', 't12_Adj', 't12_IBW',\n",
    "       't12_TBW_round', \n",
    "       'egfr_lasttime', 'egfr_secondlasttime',\n",
    "       'Duration Since Last Injection_hrs',\n",
    "       'Duration Since Last Vanco Test',\n",
    "       'Duration Since Second Last Injection_hrs',\n",
    "       'Duration Since Second Last Vanco Test',\n",
    "       'Duration btw Last Injection and Last Vanco Test_hrs',\n",
    "       'Duration btw Second Last Injection and Second Last Vanco Test_hrs',\n",
    "       'Duration Since Actual Last Injection_hrs',\n",
    "       'Duration Since Actual Second Last Injection_hrs',\n",
    "        'Third Actual Prior Vanco Test',\n",
    "        'Duration Since Third Actual Prior Vanco Test',\n",
    "        'Actual Third Prior Daily Dose',\n",
    "        'Duration Since Actual Third Last Injection_hrs'\n",
    "]"
   ]
  },
  {
   "cell_type": "code",
   "execution_count": 5,
   "metadata": {},
   "outputs": [],
   "source": [
    "SELECTVARS_INIT_NOREMOVE = [\n",
    "    'GRPC',\n",
    "    'Actual Prior Daily Dose',\n",
    "    'TBW_RoundSCr_Crcl_max150',\n",
    "    'GRPB',\n",
    "    'Age',\n",
    "    'Weight_kg',\n",
    "    'Duration Since Actual Last Injection_hrs',\n",
    "    'egfr_lasttime',\n",
    "    't12_TBW_round',\n",
    "    'ALBUMIN_lasttime',\n",
    "    'GRPA',\n",
    "    'Clvanc_TBW_round',\n",
    "    'SC_lasttime',\n",
    "    'Freq',\n",
    "    'haemodialysis'\n",
    "]\n",
    "\n",
    "SELECTVARS_SUB = [\n",
    "    'Prior Vancomycin Lab Level',\n",
    "    'Prior Daily Dose',\n",
    "    'Actual Prior Daily Dose',\n",
    "    'Actual Last Vanco Test',\n",
    "    'egfr_lasttime',\n",
    "    'Duration Since Actual Third Last Injection_hrs',\n",
    "    'Duration Since Actual Second Last Injection_hrs',\n",
    "    'Actual Third Prior Daily Dose',\n",
    "    'Duration Since Actual Last Injection_hrs',\n",
    "    'Second Actual Prior Vanco Test',\n",
    "    'Duration Since Actual Last Vanco Test',\n",
    "    'Duration Since Second Actual Prior Vanco Test',\n",
    "    'Duration Since Last Injection_hrs',\n",
    "    'Actual Second Prior Daily Dose',\n",
    "    'Duration Since Last Vanco Test',\n",
    "    'haemodialysis'\n",
    "]"
   ]
  },
  {
   "cell_type": "markdown",
   "metadata": {},
   "source": [
    "# Self-Defined Functions"
   ]
  },
  {
   "cell_type": "code",
   "execution_count": 6,
   "metadata": {},
   "outputs": [],
   "source": [
    "def process_categorical(orgdata):\n",
    "    data = orgdata.copy()\n",
    "    data['Female_x'] = orgdata['Female'] == 1\n",
    "    data['Race_CN'] = orgdata['Race'] == 'Chinese'\n",
    "    data['Race_MY'] = orgdata['Race'] == 'Malay'\n",
    "    data['Race_IN'] = orgdata['Race'] == 'Indian'\n",
    "    data.drop(columns=['Race', 'Female'], inplace=True)\n",
    "    data.rename(columns={'Female_x': 'Female'}, inplace=True)\n",
    "    \n",
    "    return data"
   ]
  },
  {
   "cell_type": "code",
   "execution_count": 7,
   "metadata": {},
   "outputs": [],
   "source": [
    "def split_data(data, TARGET_VAR, SEP_VAR, RANDOM_STATE):\n",
    "    # Random Selection on Patient ID\n",
    "    pat = pd.DataFrame(data[SEP_VAR].unique())\n",
    "    samplelist = pat.sample(frac=1, random_state=RANDOM_STATE, replace=False)\n",
    "    samplelist = samplelist[0].values\n",
    "\n",
    "    # Split train, dev, test\n",
    "    X_train = data[data[SEP_VAR].isin(\n",
    "        samplelist[:round(len(samplelist) * 0.64)])].drop(\n",
    "            columns=[TARGET_VAR, SEP_VAR])\n",
    "    X_dev = data[data[SEP_VAR].isin(\n",
    "        samplelist[round(len(samplelist) *\n",
    "                         0.64):round(len(samplelist) * 0.80)])].drop(\n",
    "                             columns=[TARGET_VAR, SEP_VAR])\n",
    "    X_test = data[data[SEP_VAR].isin(\n",
    "        samplelist[round(len(samplelist) * 0.80):])].drop(\n",
    "            columns=[TARGET_VAR, SEP_VAR])\n",
    "\n",
    "    y_train = data[data[SEP_VAR].isin(\n",
    "        samplelist[:round(len(samplelist) * 0.64)])][TARGET_VAR]\n",
    "    y_dev = data[data[SEP_VAR].isin(\n",
    "        samplelist[round(len(samplelist) * 0.64):round(len(samplelist) *\n",
    "                                                       0.80)])][TARGET_VAR]\n",
    "    y_test = data[data[SEP_VAR].isin(samplelist[round(len(samplelist) *\n",
    "                                                      0.80):])][TARGET_VAR]\n",
    "\n",
    "    return X_train, y_train, X_dev, y_dev, X_test, y_test"
   ]
  },
  {
   "cell_type": "code",
   "execution_count": 8,
   "metadata": {},
   "outputs": [],
   "source": [
    "def print_metric(model, X, y, identity_name=\"\"):\n",
    "    pred = pd.DataFrame({\n",
    "        'y': y,\n",
    "        'pred_y': model.predict(X)\n",
    "    })\n",
    "    pred['tmp_min'] = pred['y'].apply(lambda x: min(x * 0.85, x - 250))\n",
    "    pred['tmp_max'] = pred['y'].apply(lambda x: max(x * 1.15, x + 250))\n",
    "    pred['in range'] = False\n",
    "    pred.loc[(pred['pred_y'] < pred['tmp_max']) &\n",
    "             (pred['pred_y'] > pred['tmp_min']), 'in range'] = True\n",
    "\n",
    "    print(identity_name)\n",
    "    print('in range: ' +\n",
    "        str(round(pred[pred['in range'] == True].shape[0] /\n",
    "                  pred.shape[0], 3)) + ', rmse: ' +\n",
    "        str(round(\n",
    "                np.sqrt(metrics.mean_squared_error(pred['y'], pred['pred_y'])),\n",
    "                        3)) + ', med abs err: ' +\n",
    "        str(round(metrics.mean_absolute_error(pred['y'], pred['pred_y']), 3))\n",
    "    )\n",
    "\n",
    "    return pred"
   ]
  },
  {
   "cell_type": "markdown",
   "metadata": {},
   "source": [
    "# Load Data"
   ]
  },
  {
   "cell_type": "code",
   "execution_count": 9,
   "metadata": {},
   "outputs": [],
   "source": [
    "def load_data(DATAPATH, DATAFILE):\n",
    "    orgdata = pd.read_csv(DATAPATH + DATAFILE)\n",
    "    return orgdata[SELECTVARS]"
   ]
  },
  {
   "cell_type": "code",
   "execution_count": 10,
   "metadata": {},
   "outputs": [
    {
     "data": {
      "text/plain": [
       "(7912, 107)"
      ]
     },
     "execution_count": 10,
     "metadata": {},
     "output_type": "execute_result"
    }
   ],
   "source": [
    "orgdata = load_data(DATAPATH, DATAFILE)\n",
    "orgdata.shape"
   ]
  },
  {
   "cell_type": "markdown",
   "metadata": {},
   "source": [
    "# Process Data"
   ]
  },
  {
   "cell_type": "code",
   "execution_count": 11,
   "metadata": {},
   "outputs": [],
   "source": [
    "def process_data(orgdata):\n",
    "    data = process_categorical(orgdata)\n",
    "    return data"
   ]
  },
  {
   "cell_type": "code",
   "execution_count": 12,
   "metadata": {},
   "outputs": [],
   "source": [
    "data = process_data(orgdata)"
   ]
  },
  {
   "cell_type": "code",
   "execution_count": 13,
   "metadata": {},
   "outputs": [],
   "source": [
    "X_train, y_train, X_dev, y_dev, X_test, y_test = split_data(data, TARGET_VAR, SEP_VAR, RANDOM_STATE)"
   ]
  },
  {
   "cell_type": "code",
   "execution_count": 14,
   "metadata": {},
   "outputs": [],
   "source": [
    "X_train_init = X_train[(X_train['Actual Last Vanco Test'].isna())|(X_train['Actual Prior Daily Dose'].isna())]\n",
    "y_train_init = y_train[y_train.index.isin(X_train_init.index)]\n",
    "X_dev_init = X_dev[(X_dev['Actual Last Vanco Test'].isna())|(X_dev['Actual Prior Daily Dose'].isna())]\n",
    "y_dev_init = y_dev[y_dev.index.isin(X_dev_init.index)]\n",
    "X_test_init = X_test[(X_test['Actual Last Vanco Test'].isna())|(X_test['Actual Prior Daily Dose'].isna())]\n",
    "y_test_init = y_test[y_test.index.isin(X_test_init.index)]\n",
    "\n",
    "X_train_init_noremove, X_dev_init_noremove, X_test_init_noremove = X_train_init[\n",
    "    SELECTVARS_INIT_NOREMOVE], X_dev_init[\n",
    "        SELECTVARS_INIT_NOREMOVE], X_test_init[SELECTVARS_INIT_NOREMOVE]"
   ]
  },
  {
   "cell_type": "code",
   "execution_count": 15,
   "metadata": {},
   "outputs": [],
   "source": [
    "X_train_sub = X_train[~((X_train['Actual Last Vanco Test'].isna())|(X_train['Actual Prior Daily Dose'].isna()))]\n",
    "y_train_sub = y_train[y_train.index.isin(X_train_sub.index)]\n",
    "X_dev_sub = X_dev[~((X_dev['Actual Last Vanco Test'].isna())|(X_dev['Actual Prior Daily Dose'].isna()))]\n",
    "y_dev_sub = y_dev[y_dev.index.isin(X_dev_sub.index)]\n",
    "X_test_sub = X_test[~((X_test['Actual Last Vanco Test'].isna())|(X_test['Actual Prior Daily Dose'].isna()))]\n",
    "y_test_sub = y_test[y_test.index.isin(X_test_sub.index)]\n",
    "\n",
    "X_train_sub, X_dev_sub, X_test_sub = X_train_sub[SELECTVARS_SUB].copy(\n",
    "), X_dev_sub[SELECTVARS_SUB].copy(), X_test_sub[SELECTVARS_SUB].copy()"
   ]
  },
  {
   "cell_type": "code",
   "execution_count": 16,
   "metadata": {},
   "outputs": [
    {
     "data": {
      "text/plain": [
       "(1278, 15)"
      ]
     },
     "execution_count": 16,
     "metadata": {},
     "output_type": "execute_result"
    }
   ],
   "source": [
    "X_train_init_noremove.shape"
   ]
  },
  {
   "cell_type": "code",
   "execution_count": 17,
   "metadata": {},
   "outputs": [
    {
     "data": {
      "text/plain": [
       "(3827, 16)"
      ]
     },
     "execution_count": 17,
     "metadata": {},
     "output_type": "execute_result"
    }
   ],
   "source": [
    "X_train_sub.shape"
   ]
  },
  {
   "cell_type": "markdown",
   "metadata": {},
   "source": [
    "## Current Practices"
   ]
  },
  {
   "cell_type": "code",
   "execution_count": 18,
   "metadata": {
    "scrolled": true
   },
   "outputs": [
    {
     "data": {
      "text/plain": [
       "(7912, 119)"
      ]
     },
     "execution_count": 18,
     "metadata": {},
     "output_type": "execute_result"
    }
   ],
   "source": [
    "org_cohort = pd.read_csv(DATAPATH + DATAFILE)\n",
    "org_cohort.shape"
   ]
  },
  {
   "cell_type": "code",
   "execution_count": 19,
   "metadata": {
    "scrolled": true
   },
   "outputs": [
    {
     "name": "stdout",
     "output_type": "stream",
     "text": [
      "(1278, 119)\n",
      "(312, 119)\n",
      "(389, 119)\n"
     ]
    }
   ],
   "source": [
    "# Initial Dose\n",
    "train = org_cohort[org_cohort.index.isin(X_train_init_noremove.index)]\n",
    "print(train.shape)\n",
    "\n",
    "dev = org_cohort[org_cohort.index.isin(X_dev_init_noremove.index)]\n",
    "print(dev.shape)\n",
    "\n",
    "test = org_cohort[org_cohort.index.isin(X_test_init_noremove.index)]\n",
    "print(test.shape)"
   ]
  },
  {
   "cell_type": "code",
   "execution_count": 20,
   "metadata": {
    "scrolled": true
   },
   "outputs": [
    {
     "name": "stdout",
     "output_type": "stream",
     "text": [
      "Train\n",
      "0.568, med abs err: 433.333\n",
      "============================\n",
      "Dev\n",
      "0.599, med abs err: 416.186\n",
      "============================\n",
      "Test\n",
      "0.56, med abs err: 422.751\n"
     ]
    }
   ],
   "source": [
    "# Initial Dose\n",
    "print('Train')\n",
    "print(str(round(train[train['in accept range_mod'] == True].shape[0] /\n",
    "            train.shape[0], 3)) + ', med abs err: ' +\n",
    "    str(round(metrics.mean_absolute_error(train['daily accept inj level_mod'],\n",
    "                                          train['Daily Dose']), 3)))\n",
    "\n",
    "print('============================')\n",
    "print('Dev')\n",
    "print(str(round(dev[dev['in accept range_mod'] == True].shape[0] /\n",
    "            dev.shape[0], 3)) + ', med abs err: ' +\n",
    "    str(round(metrics.mean_absolute_error(dev['daily accept inj level_mod'],\n",
    "                                          dev['Daily Dose']), 3)))\n",
    "\n",
    "print('============================')\n",
    "print('Test')\n",
    "print(str(round(test[test['in accept range_mod'] == True].shape[0] /\n",
    "            test.shape[0], 3)) + ', med abs err: ' +\n",
    "    str(round(metrics.mean_absolute_error(test['daily accept inj level_mod'],\n",
    "                                          test['Daily Dose']), 3)))\n"
   ]
  },
  {
   "cell_type": "code",
   "execution_count": 21,
   "metadata": {},
   "outputs": [
    {
     "name": "stdout",
     "output_type": "stream",
     "text": [
      "(3827, 119)\n",
      "(852, 119)\n",
      "(1254, 119)\n"
     ]
    }
   ],
   "source": [
    "# Subsequent Dose\n",
    "train = org_cohort[org_cohort.index.isin(X_train_sub.index)]\n",
    "print(train.shape)\n",
    "\n",
    "dev = org_cohort[org_cohort.index.isin(X_dev_sub.index)]\n",
    "print(dev.shape)\n",
    "\n",
    "test = org_cohort[org_cohort.index.isin(X_test_sub.index)]\n",
    "print(test.shape)"
   ]
  },
  {
   "cell_type": "code",
   "execution_count": 22,
   "metadata": {
    "scrolled": false
   },
   "outputs": [
    {
     "name": "stdout",
     "output_type": "stream",
     "text": [
      "Train\n",
      "0.707, med abs err: 220.806\n",
      "============================\n",
      "Dev\n",
      "0.684, med abs err: 237.148\n",
      "============================\n",
      "Test\n",
      "0.728, med abs err: 201.156\n"
     ]
    }
   ],
   "source": [
    "# Subsequent Dose\n",
    "print('Train')\n",
    "print(str(round(train[train['in accept range_mod'] == True].shape[0] /\n",
    "            train.shape[0], 3)) + ', med abs err: ' +\n",
    "    str(round(metrics.mean_absolute_error(train['daily accept inj level_mod'],\n",
    "                                          train['Daily Dose']), 3)))\n",
    "\n",
    "print('============================')\n",
    "print('Dev')\n",
    "print(str(round(dev[dev['in accept range_mod'] == True].shape[0] /\n",
    "            dev.shape[0], 3)) + ', med abs err: ' +\n",
    "    str(round(metrics.mean_absolute_error(dev['daily accept inj level_mod'],\n",
    "                                          dev['Daily Dose']), 3)))\n",
    "\n",
    "print('============================')\n",
    "print('Test')\n",
    "print(str(round(test[test['in accept range_mod'] == True].shape[0] /\n",
    "            test.shape[0], 3)) + ', med abs err: ' +\n",
    "    str(round(metrics.mean_absolute_error(test['daily accept inj level_mod'],\n",
    "                                          test['Daily Dose']), 3)))\n"
   ]
  },
  {
   "cell_type": "markdown",
   "metadata": {},
   "source": [
    "# LightGBM Hyperparameters"
   ]
  },
  {
   "cell_type": "code",
   "execution_count": 23,
   "metadata": {},
   "outputs": [],
   "source": [
    "def bayes_fn_lgb_init_noremove(params):\n",
    "    estimator = lgb.LGBMRegressor(**params, random_state=RANDOM_STATE,\n",
    "                                  objectives='reg:squarederror')\n",
    "    estimator.fit(X_train_init_noremove,\n",
    "                y_train_init,\n",
    "                eval_set=[(X_dev_init_noremove, y_dev_init)],\n",
    "                eval_metric=EVAL_METRIC,\n",
    "                early_stopping_rounds=EARLYSTOP,\n",
    "                verbose=False)\n",
    "    \n",
    "    score = metrics.mean_absolute_error(y_dev_init, estimator.predict(X_dev_init_noremove))\n",
    "    \n",
    "    return {'loss': score, 'params': params, 'status': STATUS_OK}"
   ]
  },
  {
   "cell_type": "code",
   "execution_count": 24,
   "metadata": {},
   "outputs": [],
   "source": [
    "def bayes_fn_lgb_sub(params):\n",
    "    estimator = lgb.LGBMRegressor(**params, random_state=RANDOM_STATE,\n",
    "                                  objectives='reg:squarederror')\n",
    "    estimator.fit(X_train_sub,\n",
    "                y_train_sub,\n",
    "                eval_set=[(X_dev_sub, y_dev_sub)],\n",
    "                eval_metric=EVAL_METRIC,\n",
    "                early_stopping_rounds=EARLYSTOP,\n",
    "                verbose=False)\n",
    "    \n",
    "    score = metrics.mean_absolute_error(y_dev_sub, estimator.predict(X_dev_sub))\n",
    "    \n",
    "    return {'loss': score, 'params': params, 'status': STATUS_OK}"
   ]
  },
  {
   "cell_type": "code",
   "execution_count": 25,
   "metadata": {
    "scrolled": true
   },
   "outputs": [
    {
     "name": "stdout",
     "output_type": "stream",
     "text": [
      "100%|███████████████████████████████████████████████| 500/500 [03:49<00:00,  2.31trial/s, best loss: 426.7375245609676]\n",
      "Wall time: 3min 49s\n"
     ]
    }
   ],
   "source": [
    "%%time\n",
    "bayes_trials1 = Trials()\n",
    "best_params_lgb_init_noremove = fmin(fn=bayes_fn_lgb_init_noremove,\n",
    "                                     space=SPACE,\n",
    "                                     algo=tpe.suggest,\n",
    "                                     max_evals=500,\n",
    "                                     trials=bayes_trials1)"
   ]
  },
  {
   "cell_type": "code",
   "execution_count": 26,
   "metadata": {
    "scrolled": true
   },
   "outputs": [
    {
     "name": "stdout",
     "output_type": "stream",
     "text": [
      "100%|██████████████████████████████████████████████| 500/500 [07:51<00:00,  1.35trial/s, best loss: 280.54445709146194]\n",
      "Wall time: 7min 51s\n"
     ]
    }
   ],
   "source": [
    "%%time\n",
    "bayes_trials3 = Trials()\n",
    "best_params_lgb_sub = fmin(fn=bayes_fn_lgb_sub,\n",
    "                           space=SPACE,\n",
    "                           algo=tpe.suggest,\n",
    "                           max_evals=500,\n",
    "                           trials=bayes_trials3)"
   ]
  },
  {
   "cell_type": "markdown",
   "metadata": {},
   "source": [
    "# LightGBM and Performance"
   ]
  },
  {
   "cell_type": "code",
   "execution_count": 27,
   "metadata": {},
   "outputs": [],
   "source": [
    "def fit_model_lgb(X_train, y_train, X_dev, y_dev, MODELPATH, MODELFILE,\n",
    "                  best_params):\n",
    "    model = lgb.LGBMRegressor(**best_params,\n",
    "                              random_state=RANDOM_STATE,\n",
    "                              objectives='reg:squarederror')\n",
    "    model.fit(X_train,\n",
    "              y_train,\n",
    "              eval_set=[(X_dev, y_dev)],\n",
    "              eval_metric=EVAL_METRIC,\n",
    "              early_stopping_rounds=EARLYSTOP,\n",
    "              verbose=False)\n",
    "\n",
    "    with open(MODELPATH + MODELFILE, 'wb') as file:\n",
    "        pickle.dump(model, file)\n",
    "\n",
    "    return model"
   ]
  },
  {
   "cell_type": "code",
   "execution_count": 28,
   "metadata": {},
   "outputs": [],
   "source": [
    "def model_performance(model, X_train, y_train, X_dev, y_dev, X_test, y_test):\n",
    "    # Feature importance\n",
    "    importance = model.feature_importances_\n",
    "    feature_name = X_train.columns.values\n",
    "    feature_importance = pd.DataFrame({\n",
    "        'feature_name': feature_name,\n",
    "        'importance': importance\n",
    "    })\n",
    "    feature_importance.sort_values(by=['importance'],\n",
    "                                   ascending=False,\n",
    "                                   inplace=True)\n",
    "\n",
    "    # Metrics\n",
    "    train_metrics = print_metric(model, X_train, y_train, 'train')\n",
    "    dev_metrics = print_metric(model, X_dev, y_dev, 'dev')\n",
    "    test_metrics = print_metric(model, X_test, y_test, 'test')\n",
    "\n",
    "    if 'Actual Last Vanco Test' not in X_train.columns:\n",
    "        print('Initial dose:')\n",
    "        print('==================')\n",
    "\n",
    "        pred = train_metrics.copy()\n",
    "        print('Train in range: ' + str(\n",
    "                round(pred[pred['in range'] == True].shape[0] /\n",
    "                      pred.shape[0], 3)) + ', rmse: ' +\n",
    "            str(round(np.sqrt(metrics.mean_squared_error(pred['y'], pred['pred_y'])),\n",
    "                      3)) + ', med abs err: ' +\n",
    "            str(round(metrics.mean_absolute_error(pred['y'], pred['pred_y']), 3)))\n",
    "        pred = dev_metrics.copy()\n",
    "        print('Dev in range: ' + str(\n",
    "                round(pred[pred['in range'] == True].shape[0] /\n",
    "                      pred.shape[0], 3)) + ', rmse: ' +\n",
    "            str(round(np.sqrt(metrics.mean_squared_error(pred['y'], pred['pred_y'])),\n",
    "                      3)) + ', med abs err: ' +\n",
    "            str(round(metrics.mean_absolute_error(pred['y'], pred['pred_y']), 3)))\n",
    "        pred = test_metrics.copy()\n",
    "        print('Test in range: ' + str(\n",
    "                round(pred[pred['in range'] == True].shape[0] /\n",
    "                      pred.shape[0], 3)) + ', rmse: ' +\n",
    "            str(round(np.sqrt(metrics.mean_squared_error(pred['y'], pred['pred_y'])),\n",
    "                      3)) + ', med abs err: ' +\n",
    "            str(round(metrics.mean_absolute_error(pred['y'], pred['pred_y']), 3)))\n",
    "\n",
    "    if 'Actual Last Vanco Test' in X_train.columns:\n",
    "        print('Subsequent dose:')\n",
    "        print('==================')\n",
    "\n",
    "        pred = train_metrics.copy()\n",
    "        print('Train in range: ' + str(\n",
    "                round(pred[pred['in range'] == True].shape[0] /\n",
    "                      pred.shape[0], 3)) + ', rmse: ' +\n",
    "            str(round(np.sqrt(metrics.mean_squared_error(pred['y'], pred['pred_y'])),\n",
    "                      3)) + ', med abs err: ' +\n",
    "            str(round(metrics.mean_absolute_error(pred['y'], pred['pred_y']), 3)))\n",
    "        pred = dev_metrics.copy()\n",
    "        print('Dev in range: ' + str(\n",
    "                round(pred[pred['in range'] == True].shape[0] /\n",
    "                      pred.shape[0], 3)) + ', rmse: ' +\n",
    "            str(round(np.sqrt(metrics.mean_squared_error(pred['y'], pred['pred_y'])),\n",
    "                      3)) + ', med abs err: ' +\n",
    "            str(round(metrics.mean_absolute_error(pred['y'], pred['pred_y']), 3)))\n",
    "        pred = test_metrics.copy()\n",
    "        print('Test in range: ' + str(\n",
    "                round(pred[pred['in range'] == True].shape[0] /\n",
    "                      pred.shape[0], 3)) + ', rmse: ' +\n",
    "            str(round(np.sqrt(metrics.mean_squared_error(pred['y'], pred['pred_y'])),\n",
    "                      3)) + ', med abs err: ' +\n",
    "            str(round(metrics.mean_absolute_error(pred['y'], pred['pred_y']), 3)))\n",
    "\n",
    "    return feature_importance, train_metrics, dev_metrics, test_metrics"
   ]
  },
  {
   "cell_type": "code",
   "execution_count": 29,
   "metadata": {},
   "outputs": [],
   "source": [
    "def combresult(X_train, y_train, X_dev, y_dev, X_test, y_test, MODELPATH, MODELFILE,\n",
    "               best_params):\n",
    "    model = fit_model_lgb(X_train, y_train, X_dev, y_dev, MODELPATH, MODELFILE,\n",
    "                          best_params)\n",
    "    feature_importance, train_metrics, dev_metrics, test_metrics = model_performance(\n",
    "        model, X_train, y_train, X_dev, y_dev, X_test, y_test)\n",
    "\n",
    "    return feature_importance, train_metrics, dev_metrics, test_metrics"
   ]
  },
  {
   "cell_type": "markdown",
   "metadata": {},
   "source": [
    "## Initial Dose (No Removal)"
   ]
  },
  {
   "cell_type": "code",
   "execution_count": 30,
   "metadata": {
    "scrolled": true
   },
   "outputs": [
    {
     "data": {
      "text/plain": [
       "{'colsample_bylevel': 0.4508136916342451,\n",
       " 'colsample_bytree': 0.3690802013052334,\n",
       " 'learning_rate': 0.04331241818985845,\n",
       " 'max_depth': 2,\n",
       " 'n_estimators': 130,\n",
       " 'reg_alpha': 0.6034598270441844,\n",
       " 'reg_lambda': 0.18638175039110683,\n",
       " 'subsample': 0.7902834085216726}"
      ]
     },
     "execution_count": 30,
     "metadata": {},
     "output_type": "execute_result"
    }
   ],
   "source": [
    "best_params_lgb_init_noremove "
   ]
  },
  {
   "cell_type": "code",
   "execution_count": 31,
   "metadata": {},
   "outputs": [
    {
     "name": "stdout",
     "output_type": "stream",
     "text": [
      "train\n",
      "in range: 0.397, rmse: 711.286, med abs err: 523.969\n",
      "dev\n",
      "in range: 0.446, rmse: 690.47, med abs err: 494.778\n",
      "test\n",
      "in range: 0.398, rmse: 681.161, med abs err: 506.702\n",
      "Initial dose:\n",
      "==================\n",
      "Train in range: 0.397, rmse: 711.286, med abs err: 523.969\n",
      "Dev in range: 0.446, rmse: 690.47, med abs err: 494.778\n",
      "Test in range: 0.398, rmse: 681.161, med abs err: 506.702\n"
     ]
    }
   ],
   "source": [
    "feature_importance, train_metrics, dev_metrics, test_metrics = combresult(\n",
    "    X_train_init_noremove, y_train_init, X_dev_init_noremove, y_dev_init,\n",
    "    X_test_init_noremove, y_test_init, MODELPATH, MODELFILE,\n",
    "    best_params_lgb_init_noremove)"
   ]
  },
  {
   "cell_type": "markdown",
   "metadata": {},
   "source": [
    "### Grid Search"
   ]
  },
  {
   "cell_type": "code",
   "execution_count": 32,
   "metadata": {},
   "outputs": [],
   "source": [
    "PARAM_GRID = {\n",
    "     'colsample_bylevel': [0.4, 0.5],\n",
    "     'colsample_bytree': [0.3, 0.4],\n",
    "     'learning_rate': [0.02, 0.04, 0.06],\n",
    "     'max_depth': [2, 3, 4],\n",
    "     'n_estimators': [110, 130, 150],\n",
    "     'reg_alpha': [0.6],\n",
    "     'reg_lambda': [0.2],\n",
    "     'subsample': [0.8],\n",
    "}"
   ]
  },
  {
   "cell_type": "code",
   "execution_count": 33,
   "metadata": {
    "scrolled": true
   },
   "outputs": [
    {
     "data": {
      "text/plain": [
       "GridSearchCV(cv='warn', error_score='raise-deprecating',\n",
       "             estimator=LGBMRegressor(boosting_type='gbdt', class_weight=None,\n",
       "                                     colsample_bytree=1.0, learning_rate=0.1,\n",
       "                                     max_depth=-1, min_child_samples=20,\n",
       "                                     min_child_weight=0.001, min_split_gain=0.0,\n",
       "                                     n_estimators=100, n_jobs=-1, num_leaves=31,\n",
       "                                     objective=None,\n",
       "                                     objectives='reg:squarederror',\n",
       "                                     random_state=1234, reg_alpha=0.0...\n",
       "                                     subsample_for_bin=200000,\n",
       "                                     subsample_freq=1),\n",
       "             iid='warn', n_jobs=None,\n",
       "             param_grid={'colsample_bylevel': [0.4, 0.5],\n",
       "                         'colsample_bytree': [0.3, 0.4],\n",
       "                         'learning_rate': [0.02, 0.04, 0.06],\n",
       "                         'max_depth': [2, 3, 4],\n",
       "                         'n_estimators': [110, 130, 150], 'reg_alpha': [0.6],\n",
       "                         'reg_lambda': [0.2], 'subsample': [0.8]},\n",
       "             pre_dispatch='2*n_jobs', refit=True, return_train_score=False,\n",
       "             scoring=None, verbose=False)"
      ]
     },
     "execution_count": 33,
     "metadata": {},
     "output_type": "execute_result"
    }
   ],
   "source": [
    "estimator = lgb.LGBMRegressor(\n",
    "    objectives='reg:squarederror', random_state=RANDOM_STATE\n",
    ")\n",
    "gsearch = GridSearchCV(estimator, PARAM_GRID, verbose=False)\n",
    "gsearch.fit(\n",
    "    X_train_init_noremove, y_train_init,\n",
    "    eval_set=[(X_dev_init_noremove, y_dev_init)],\n",
    "    eval_metric=EVAL_METRIC,\n",
    "    early_stopping_rounds=EARLYSTOP,\n",
    "    verbose=False,\n",
    ")"
   ]
  },
  {
   "cell_type": "code",
   "execution_count": 34,
   "metadata": {
    "scrolled": true
   },
   "outputs": [
    {
     "name": "stdout",
     "output_type": "stream",
     "text": [
      "train\n",
      "in range: 0.564, rmse: 547.559, med abs err: 387.815\n",
      "dev\n",
      "in range: 0.522, rmse: 610.454, med abs err: 435.489\n",
      "test\n",
      "in range: 0.517, rmse: 628.483, med abs err: 450.159\n",
      "Initial dose:\n",
      "==================\n",
      "Train in range: 0.564, rmse: 547.559, med abs err: 387.815\n",
      "Dev in range: 0.522, rmse: 610.454, med abs err: 435.489\n",
      "Test in range: 0.517, rmse: 628.483, med abs err: 450.159\n"
     ]
    }
   ],
   "source": [
    "best_params = gsearch.best_params_\n",
    "\n",
    "feature_importance, train_metrics, dev_metrics, test_metrics = combresult(\n",
    "    X_train_init_noremove, y_train_init, X_dev_init_noremove, y_dev_init,\n",
    "    X_test_init_noremove, y_test_init, MODELPATH, MODELFILE, best_params)"
   ]
  },
  {
   "cell_type": "markdown",
   "metadata": {},
   "source": [
    "## Subsequent Dose"
   ]
  },
  {
   "cell_type": "code",
   "execution_count": 36,
   "metadata": {
    "scrolled": false
   },
   "outputs": [
    {
     "data": {
      "text/plain": [
       "{'colsample_bylevel': 0.7459643802852338,\n",
       " 'colsample_bytree': 0.9303798283844933,\n",
       " 'learning_rate': 0.046999087971699,\n",
       " 'max_depth': 4,\n",
       " 'n_estimators': 264,\n",
       " 'reg_alpha': 0.4475908546291876,\n",
       " 'reg_lambda': 0.3416781863873622,\n",
       " 'subsample': 0.8197380792148594}"
      ]
     },
     "execution_count": 36,
     "metadata": {},
     "output_type": "execute_result"
    }
   ],
   "source": [
    "best_params_lgb_sub "
   ]
  },
  {
   "cell_type": "code",
   "execution_count": 37,
   "metadata": {
    "scrolled": false
   },
   "outputs": [
    {
     "name": "stdout",
     "output_type": "stream",
     "text": [
      "train\n",
      "in range: 0.758, rmse: 365.411, med abs err: 250.585\n",
      "dev\n",
      "in range: 0.719, rmse: 467.376, med abs err: 292.086\n",
      "test\n",
      "in range: 0.729, rmse: 408.079, med abs err: 270.063\n",
      "Subsequent dose:\n",
      "==================\n",
      "Train in range: 0.758, rmse: 365.411, med abs err: 250.585\n",
      "Dev in range: 0.719, rmse: 467.376, med abs err: 292.086\n",
      "Test in range: 0.729, rmse: 408.079, med abs err: 270.063\n"
     ]
    }
   ],
   "source": [
    "feature_importance, train_metrics, dev_metrics, test_metrics = combresult(\n",
    "    X_train_sub, y_train_sub, X_dev_sub, y_dev_sub, X_test_sub, y_test_sub,\n",
    "    MODELPATH, MODELFILE, best_params_lgb_sub)"
   ]
  },
  {
   "cell_type": "markdown",
   "metadata": {},
   "source": [
    "### Grid Search"
   ]
  },
  {
   "cell_type": "code",
   "execution_count": 38,
   "metadata": {},
   "outputs": [],
   "source": [
    "PARAM_GRID = {\n",
    "     'colsample_bylevel': [0.7, 0.8],\n",
    "     'colsample_bytree': [0.8, 0.9],\n",
    "     'learning_rate': [0.04, 0.05],\n",
    "     'max_depth': [4],\n",
    "     'n_estimators': [260],\n",
    "     'reg_alpha': [0.4, 0.5],\n",
    "     'reg_lambda': [0.4, 0.5],\n",
    "     'subsample': [0.7, 0.8],\n",
    "}"
   ]
  },
  {
   "cell_type": "code",
   "execution_count": 39,
   "metadata": {
    "scrolled": true
   },
   "outputs": [
    {
     "data": {
      "text/plain": [
       "GridSearchCV(cv='warn', error_score='raise-deprecating',\n",
       "             estimator=LGBMRegressor(boosting_type='gbdt', class_weight=None,\n",
       "                                     colsample_bytree=1.0, learning_rate=0.1,\n",
       "                                     max_depth=-1, min_child_samples=20,\n",
       "                                     min_child_weight=0.001, min_split_gain=0.0,\n",
       "                                     n_estimators=100, n_jobs=-1, num_leaves=31,\n",
       "                                     objective=None,\n",
       "                                     objectives='reg:squarederror',\n",
       "                                     random_state=1234, reg_alpha=0.0...\n",
       "                                     subsample_for_bin=200000,\n",
       "                                     subsample_freq=1),\n",
       "             iid='warn', n_jobs=None,\n",
       "             param_grid={'colsample_bylevel': [0.7, 0.8],\n",
       "                         'colsample_bytree': [0.8, 0.9],\n",
       "                         'learning_rate': [0.04, 0.05], 'max_depth': [4],\n",
       "                         'n_estimators': [260], 'reg_alpha': [0.4, 0.5],\n",
       "                         'reg_lambda': [0.4, 0.5], 'subsample': [0.7, 0.8]},\n",
       "             pre_dispatch='2*n_jobs', refit=True, return_train_score=False,\n",
       "             scoring=None, verbose=False)"
      ]
     },
     "execution_count": 39,
     "metadata": {},
     "output_type": "execute_result"
    }
   ],
   "source": [
    "estimator = lgb.LGBMRegressor(\n",
    "    objectives='reg:squarederror', random_state=RANDOM_STATE\n",
    ")\n",
    "gsearch = GridSearchCV(estimator, PARAM_GRID, verbose=False)\n",
    "gsearch.fit(\n",
    "    X_train_sub, y_train_sub, \n",
    "    eval_set=[(X_dev_sub, y_dev_sub)],\n",
    "    eval_metric=EVAL_METRIC,\n",
    "    early_stopping_rounds=EARLYSTOP,\n",
    "    verbose=False,\n",
    ")"
   ]
  },
  {
   "cell_type": "code",
   "execution_count": 40,
   "metadata": {},
   "outputs": [
    {
     "name": "stdout",
     "output_type": "stream",
     "text": [
      "train\n",
      "in range: 0.789, rmse: 334.24, med abs err: 229.409\n",
      "dev\n",
      "in range: 0.73, rmse: 470.786, med abs err: 289.866\n",
      "test\n",
      "in range: 0.734, rmse: 406.775, med abs err: 267.14\n",
      "Subsequent dose:\n",
      "==================\n",
      "Train in range: 0.789, rmse: 334.24, med abs err: 229.409\n",
      "Dev in range: 0.73, rmse: 470.786, med abs err: 289.866\n",
      "Test in range: 0.734, rmse: 406.775, med abs err: 267.14\n"
     ]
    }
   ],
   "source": [
    "best_params = gsearch.best_params_\n",
    "feature_importance, train_metrics, dev_metrics, test_metrics = combresult(\n",
    "    X_train_sub, y_train_sub, X_dev_sub, y_dev_sub,\n",
    "    X_test_sub, y_test_sub, MODELPATH, MODELFILE,\n",
    "    best_params)"
   ]
  },
  {
   "cell_type": "code",
   "execution_count": null,
   "metadata": {},
   "outputs": [],
   "source": []
  }
 ],
 "metadata": {
  "kernelspec": {
   "display_name": "Python 3",
   "language": "python",
   "name": "python3"
  },
  "language_info": {
   "codemirror_mode": {
    "name": "ipython",
    "version": 3
   },
   "file_extension": ".py",
   "mimetype": "text/x-python",
   "name": "python",
   "nbconvert_exporter": "python",
   "pygments_lexer": "ipython3",
   "version": "3.7.4"
  },
  "toc": {
   "base_numbering": 1,
   "nav_menu": {},
   "number_sections": true,
   "sideBar": true,
   "skip_h1_title": false,
   "title_cell": "Table of Contents",
   "title_sidebar": "Contents",
   "toc_cell": false,
   "toc_position": {
    "height": "calc(100% - 180px)",
    "left": "10px",
    "top": "150px",
    "width": "273.2px"
   },
   "toc_section_display": true,
   "toc_window_display": true
  }
 },
 "nbformat": 4,
 "nbformat_minor": 2
}
