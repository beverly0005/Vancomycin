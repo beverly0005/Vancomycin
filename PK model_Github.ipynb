{
 "cells": [
  {
   "cell_type": "markdown",
   "metadata": {},
   "source": [
    "Modified from _v6"
   ]
  },
  {
   "cell_type": "markdown",
   "metadata": {},
   "source": [
    "Based on excel toolkit downloaded on 23-11-2020 from the website: https://udmp.ucsf.edu/content/vancomycin-iv. \n",
    "\n",
    "\"_VancoDosingCalculator_UCSF_2020_0(from website).xlsx\""
   ]
  },
  {
   "cell_type": "markdown",
   "metadata": {},
   "source": [
    "# Import Libraries"
   ]
  },
  {
   "cell_type": "code",
   "execution_count": 1,
   "metadata": {},
   "outputs": [],
   "source": [
    "import pandas as pd\n",
    "import numpy as np\n",
    "import tqdm\n",
    "import matplotlib.pyplot as plt\n",
    "\n",
    "import warnings\n",
    "warnings.filterwarnings('ignore')"
   ]
  },
  {
   "cell_type": "markdown",
   "metadata": {},
   "source": [
    "# Create Functions"
   ]
  },
  {
   "cell_type": "markdown",
   "metadata": {},
   "source": [
    "## Initial Dose"
   ]
  },
  {
   "cell_type": "code",
   "execution_count": 2,
   "metadata": {},
   "outputs": [],
   "source": [
    "def initial_dose(Age_yr, Weight_kg, Height_cm, SCr, Female, Method=3):\n",
    "    \"\"\"\n",
    "    Some notes on input:\n",
    "    Female: No 0, Yes 1\n",
    "    SCr: serum creatinine in mg/L\n",
    "    Method: 1 Cockroft-Gault using Total Body Weight (TBW)\n",
    "            2 Cockroft-Gault using Adjusted Body Weight (ABW)\n",
    "            3 Cockroft-Gault using Ideal Body Weight (IBW): Not used here\n",
    "            4 Cockroft-Gault using TBW and SCr rounded up (TBW_RoundSCr_Crcl)\n",
    "            5 Input Custom CrCl estimation (Forced CrCl): Not used here\n",
    "    \"\"\"\n",
    "    \n",
    "    # Body data\n",
    "    Height_inch = Height_cm * 0.393701\n",
    "    IBW = 45.5+2.3*(Height_inch-60) if Female == 1 else 50+2.3*(Height_inch-60)  #Ideal body weight\n",
    "    ABW = 0.4*(Weight_kg-IBW)+IBW  #Adjusted body weight\n",
    "    TBW_IBW = Weight_kg/IBW\n",
    "    Elderly_Flag = 'Yes' if (Age_yr > 65)&(SCr < 1) else 'No'\n",
    "\n",
    "#     #==========================\n",
    "#     # Suggested method: according to UCSF-PK model (ref: C15,C16 on patient_info tab)\n",
    "#     if TBW_IBW > 1.2: \n",
    "#         Method = 2\n",
    "#     if Elderly_Flag == 'Yes': \n",
    "#         Method = 4\n",
    "#     #==========================\n",
    "    \n",
    "    # Parameter calculation\n",
    "    # Step 1: preliminary values (ml/min)\n",
    "    TBW_Crcl = (140-Age_yr)*Weight_kg/(72*SCr) if Female == 0 else 0.85*(140-Age_yr)*Weight_kg/(72*SCr)\n",
    "    AdjBW_Crcl = (140-Age_yr)*ABW/(72*SCr) if Female == 0 else 0.85*(140-Age_yr)*ABW/(72*SCr)\n",
    "    IBW_Crcl = (140-Age_yr)*IBW/(72*SCr) if Female == 0 else 0.85*(140-Age_yr)*IBW/(72*SCr)\n",
    "    TBW_RoundSCr_Crcl = (140-Age_yr)*Weight_kg/72 if Female == 0 else 0.85*(140-Age_yr)*Weight_kg/72\n",
    "    \n",
    "    #============== (Optional) =============\n",
    "    # Step 2: Cut off\n",
    "    TBW_Crcl_max200 = TBW_Crcl if TBW_Crcl <= 200 else 200\n",
    "    AdjBW_Crcl_max200 = AdjBW_Crcl if AdjBW_Crcl <= 200 else 200\n",
    "    IBW_Crcl_max200 = IBW_Crcl if IBW_Crcl <= 200 else 200\n",
    "    TBW_RoundSCr_Crcl_max200 = TBW_RoundSCr_Crcl if TBW_RoundSCr_Crcl <= 200 else 200\n",
    "    \n",
    "    TBW_Crcl_max150 = TBW_Crcl if TBW_Crcl <= 150 else 150\n",
    "    AdjBW_Crcl_max150 = AdjBW_Crcl if AdjBW_Crcl <= 150 else 150\n",
    "    IBW_Crcl_max150 = IBW_Crcl if IBW_Crcl <= 150 else 150\n",
    "    TBW_RoundSCr_Crcl_max150 = TBW_RoundSCr_Crcl if TBW_RoundSCr_Crcl <= 150 else 150\n",
    "        \n",
    "    # Step 3: Convert ml/min to L/hr\n",
    "    TBW_Crcl_max200_Lhr = TBW_Crcl_max200 * 60 /1000\n",
    "    AdjBW_Crcl_max200_Lhr = AdjBW_Crcl_max200 * 60 /1000\n",
    "    IBW_Crcl_max200_Lhr = IBW_Crcl_max200 * 60 /1000\n",
    "    TBW_RoundSCr_Crcl_max200_Lhr = TBW_RoundSCr_Crcl_max200 * 60 /1000\n",
    "    #============== (Optional) =============\n",
    "    \n",
    "#     # Step 4: processed Crcl\n",
    "#     TBW_Crcl_proc = TBW_Crcl * 0.00083 + 0.0044\n",
    "#     AdjBW_Crcl_proc = AdjBW_Crcl * 0.00083 + 0.0044    \n",
    "#     IBW_Crcl_proc = IBW_Crcl * 0.00083 + 0.0044    \n",
    "#     TBW_RoundSCr_Crcl_proc = TBW_RoundSCr_Crcl * 0.00083 + 0.0044\n",
    "    \n",
    "    \n",
    "#     #====== (Plan A) ==============\n",
    "#     TBW_Crcl_proc = TBW_Crcl_max200 * 0.00083 + 0.0044\n",
    "#     AdjBW_Crcl_proc = AdjBW_Crcl_max200 * 0.00083 + 0.0044    \n",
    "#     IBW_Crcl_proc = IBW_Crcl_max200 * 0.00083 + 0.0044    \n",
    "#     TBW_RoundSCr_Crcl_proc = TBW_RoundSCr_Crcl_max200 * 0.00083 + 0.0044\n",
    "    \n",
    "    \n",
    "    #====== (Plan B) ==============\n",
    "    TBW_Crcl_proc = TBW_Crcl_max150 * 0.00083 + 0.0044\n",
    "    AdjBW_Crcl_proc = AdjBW_Crcl_max150 * 0.00083 + 0.0044    \n",
    "    IBW_Crcl_proc = IBW_Crcl_max150 * 0.00083 + 0.0044    \n",
    "    TBW_RoundSCr_Crcl_proc = TBW_RoundSCr_Crcl_max150 * 0.00083 + 0.0044\n",
    "    \n",
    "    \n",
    "    \n",
    "    #Calculate Dose\n",
    "    # Step 1: Prepare vancomycin parameters\n",
    "    Vd_vanc =0.7 * Weight_kg\n",
    "    \n",
    "    if Method == 1:\n",
    "        k = TBW_RoundSCr_Crcl_proc\n",
    "    elif Method == 2:\n",
    "        k = AdjBW_Crcl_proc\n",
    "    elif Method == 3:\n",
    "        k = IBW_Crcl_proc\n",
    "    elif Method == 4:\n",
    "        k = TBW_RoundSCr_Crcl_proc\n",
    "    else:\n",
    "        print('Invalid Method Chosen')\n",
    "    \n",
    "    Clvanc = k * Vd_vanc\n",
    "    t1_2 = 0.693 / k\n",
    "\n",
    "    # Step 2: prepare parameters acc to suggested dosing intervals and target trough\n",
    "    if t1_2 < 6:\n",
    "        Suggested_T = 6 # Suggested dosing intervals in hours\n",
    "    elif (t1_2>6)&(t1_2<=10):\n",
    "        Suggested_T = 8\n",
    "    elif (t1_2>10)&(t1_2<=18):\n",
    "        Suggested_T = 12\n",
    "    elif t1_2 > 18:\n",
    "        Suggested_T = 24\n",
    "    \n",
    "    Chosen_Tau = Suggested_T\n",
    "    Target_trough = 17.5   # the mean of 15, 20\n",
    "    nega_kT = - (k * Chosen_Tau)\n",
    "    \n",
    "    # Step 3: recommended daily dose\n",
    "    Vanco_dose = (Target_trough * Vd_vanc) * (1 - np.exp(nega_kT)) / np.exp(nega_kT)\n",
    "    # Cutoff each injection at 250 - 2000\n",
    "    if Vanco_dose < 250:\n",
    "        Vanco_dose = 250 \n",
    "    elif Vanco_dose > 2000:\n",
    "        Vanco_dose = 2000\n",
    "    \n",
    "    # Not convert into the multiples of 250\n",
    "    Daily_Dose = round(Vanco_dose * (24/Chosen_Tau), 1)  \n",
    "    \n",
    "    return [Daily_Dose, Chosen_Tau]"
   ]
  },
  {
   "cell_type": "code",
   "execution_count": 3,
   "metadata": {
    "scrolled": true
   },
   "outputs": [
    {
     "data": {
      "text/plain": [
       "[954.3, 12]"
      ]
     },
     "execution_count": 3,
     "metadata": {},
     "output_type": "execute_result"
    }
   ],
   "source": [
    "initial_dose(Age_yr=51, Weight_kg=50, Height_cm=170, SCr=1.2, Female=1, Method=4)"
   ]
  },
  {
   "cell_type": "markdown",
   "metadata": {},
   "source": [
    "## Subsequent Dose: Single-Level Dose"
   ]
  },
  {
   "cell_type": "code",
   "execution_count": 4,
   "metadata": {},
   "outputs": [],
   "source": [
    "def single_level_dose(Age_yr, Weight_kg, Height_cm, SCr, Female, Interval_hr, Trough_level, \n",
    "                      Prior_Vanco_level, Method = 1):\n",
    "    \"\"\"\n",
    "    Some notes on input:\n",
    "    Female: No 0, Yes 1\n",
    "    SCr: serum creatinine in mg/L\n",
    "    Method: 1 Cockroft-Gault using Total Body Weight (TBW)\n",
    "            2 Cockroft-Gault using Adjusted Body Weight (ABW)\n",
    "            3 Cockroft-Gault using Ideal Body Weight (IBW): Not available for now\n",
    "            4 Cockroft-Gault using TBW and SCr rounded up (TBW_RoundSCr_Crcl)\n",
    "            5 Input Custom CrCl estimation (Forced CrCl): Not available for now\n",
    "    Interval_hr: vancomycin frequency in hours\n",
    "    Trough_level: vancomycin trough serum concentration in mg/L\n",
    "    Prior_Vanco_level: Prior vancomycin dose in mg\n",
    "    \"\"\"\n",
    "    \n",
    "    # Body data\n",
    "    Height_inch = Height_cm * 0.393701\n",
    "    IBW = 45.5+2.3*(Height_inch-60) if Female == 1 else 50+2.3*(Height_inch-60)  #Ideal body weight\n",
    "    ABW = 0.4*(Weight_kg-IBW)+IBW  #Adjusted body weight\n",
    "    TBW_IBW = Weight_kg/IBW\n",
    "    Elderly_Flag = 'Yes' if (Age_yr > 65)&(SCr < 1) else 'No'\n",
    "\n",
    "#     #==========================\n",
    "#     # Suggested method: according to UCSF-PK model (ref: C15,C16 on patient_info tab)\n",
    "#     if TBW_IBW > 1.2: \n",
    "#         Method = 2\n",
    "#     if Elderly_Flag == 'Yes': \n",
    "#         Method = 4\n",
    "#     #==========================\n",
    "    \n",
    "    #Calculate Dose\n",
    "    # Step 1: Prepare vancomycin parameters\n",
    "    Vd_vanc =0.7 * Weight_kg\n",
    "    calc_field = (Trough_level + Prior_Vanco_level/Vd_vanc)/Trough_level\n",
    "    k = np.log(calc_field)/Interval_hr\n",
    "    t1_2 = 0.693 / k\n",
    "    Clvanc = k * Vd_vanc\n",
    "    \n",
    "    # Step 2: prepare parameters acc to suggested dosing intervals and target trough\n",
    "    \"\"\"Using their suggested dosing intervals (in hours), not ours?\"\"\"\n",
    "    if t1_2 < 6:\n",
    "        Suggested_T = 6\n",
    "    elif (t1_2>6)&(t1_2<=10):\n",
    "        Suggested_T = 8\n",
    "    elif (t1_2>10)&(t1_2<=18):\n",
    "        Suggested_T = 12\n",
    "    elif t1_2 > 18:\n",
    "        Suggested_T = 24\n",
    "    \n",
    "    Chosen_T = Suggested_T\n",
    "    Target_Trough = 17.5  # the mean of 15, 20\n",
    "    nega_kT = -(k * Chosen_T)\n",
    "    \n",
    "    # Step 3: recommended daily dose\n",
    "    Vanco_dose = (Target_Trough * Vd_vanc) * (1 - np.exp(nega_kT)) / np.exp(nega_kT)\n",
    "    # Cutoff each injection at 250 - 2000\n",
    "    if Vanco_dose < 250:\n",
    "        Vanco_dose = 250 \n",
    "    elif Vanco_dose > 2000:\n",
    "        Vanco_dose = 2000\n",
    "        \n",
    "    # Not convert into the multiples of 250\n",
    "    Daily_Dose = round(Vanco_dose * (24/Chosen_T), 1)  \n",
    "    \n",
    "    return [Daily_Dose, Chosen_T]\n",
    "    "
   ]
  },
  {
   "cell_type": "code",
   "execution_count": 5,
   "metadata": {},
   "outputs": [
    {
     "data": {
      "text/plain": [
       "[2681.8, 8]"
      ]
     },
     "execution_count": 5,
     "metadata": {},
     "output_type": "execute_result"
    }
   ],
   "source": [
    "single_level_dose(Age_yr=50, Weight_kg=50, Height_cm=172, SCr=1.2, Female=0, \n",
    "                  Interval_hr= 12, Trough_level = 20, \n",
    "                  Prior_Vanco_level = 2000)"
   ]
  },
  {
   "cell_type": "markdown",
   "metadata": {},
   "source": [
    "# Load Data"
   ]
  },
  {
   "cell_type": "code",
   "execution_count": 6,
   "metadata": {},
   "outputs": [
    {
     "data": {
      "text/plain": [
       "(7912, 119)"
      ]
     },
     "execution_count": 6,
     "metadata": {},
     "output_type": "execute_result"
    }
   ],
   "source": [
    "finaldatapath = ''\n",
    "orgdata = pd.read_csv(finaldatapath + 'newcohort_features_addtmp_moddailycohort_priordailydose.csv')\n",
    "orgdata.sort_values(by=['Case No', 'Date'], ascending=True, inplace=True)\n",
    "orgdata.shape"
   ]
  },
  {
   "cell_type": "markdown",
   "metadata": {},
   "source": [
    "## Fill In Missing"
   ]
  },
  {
   "cell_type": "code",
   "execution_count": 7,
   "metadata": {
    "scrolled": true
   },
   "outputs": [
    {
     "name": "stdout",
     "output_type": "stream",
     "text": [
      "(965, 119)\n",
      "0.12196663296258847\n",
      "375\n",
      "==============\n",
      "(3094, 119)\n",
      "0.391051567239636\n",
      "1271\n"
     ]
    }
   ],
   "source": [
    "print(orgdata[orgdata['Height_cm'].isna()].shape)\n",
    "print(orgdata[orgdata['Height_cm'].isna()].shape[0]/orgdata.shape[0])\n",
    "print(orgdata[orgdata['Height_cm'].isna()]['Case No'].nunique())\n",
    "print('==============')\n",
    "print(orgdata[orgdata['SC_lasttime'].isna()].shape)\n",
    "print(orgdata[orgdata['SC_lasttime'].isna()].shape[0]/orgdata.shape[0])\n",
    "print(orgdata[orgdata['SC_lasttime'].isna()]['Case No'].nunique())"
   ]
  },
  {
   "cell_type": "code",
   "execution_count": 8,
   "metadata": {},
   "outputs": [
    {
     "name": "stdout",
     "output_type": "stream",
     "text": [
      "(0, 119)\n",
      "0.9337840813574096\n"
     ]
    }
   ],
   "source": [
    "data = orgdata.copy()\n",
    "\n",
    "# Fill in missing height\n",
    "tmp_height = data[~data['Height_cm'].isna()].groupby(['Female'])['Height_cm'].mean().reset_index()\n",
    "data.loc[(data['Female']==1) & (data['Height_cm'].isna()), \n",
    "         'Height_cm'] = tmp_height.loc[(tmp_height['Female']==1), 'Height_cm'].values[0]\n",
    "data.loc[(data['Female']==0) & (data['Height_cm'].isna()), \n",
    "         'Height_cm'] = tmp_height.loc[(tmp_height['Female']==0), 'Height_cm'].values[0]\n",
    "print(data[data['Height_cm'].isna()].shape)\n",
    "\n",
    "# Fill in missing serum creatinine\n",
    "sc_mean = np.nanmean(data['SC_lasttime'])\n",
    "data['SC_lasttime'].fillna(sc_mean, inplace=True)\n",
    "print(sc_mean* 0.01131222)"
   ]
  },
  {
   "cell_type": "markdown",
   "metadata": {},
   "source": [
    "## Create Acceptable Range of Injection"
   ]
  },
  {
   "cell_type": "markdown",
   "metadata": {},
   "source": [
    "Use target inj level created from [14, 20]"
   ]
  },
  {
   "cell_type": "code",
   "execution_count": 9,
   "metadata": {},
   "outputs": [],
   "source": [
    "data['tmp_min'] = data['daily accept inj level_mod'].apply(lambda x: min(x * 0.85, x - 250))\n",
    "data['tmp_max'] = data['daily accept inj level_mod'].apply(lambda x: max(x * 1.15, x + 250))"
   ]
  },
  {
   "cell_type": "markdown",
   "metadata": {},
   "source": [
    "## Seperate Initial and Subsequent Groups"
   ]
  },
  {
   "cell_type": "markdown",
   "metadata": {},
   "source": [
    "### Initial Dose Group"
   ]
  },
  {
   "cell_type": "code",
   "execution_count": 10,
   "metadata": {
    "scrolled": true
   },
   "outputs": [],
   "source": [
    "cohort_initial = data[(data['Actual Last Vanco Test'].isna())|(data['Actual Prior Daily Dose'].isna())].copy()\n",
    "cohort_initial['flag'] = cohort_initial['Case No'] + '_' + cohort_initial['Date'].astype(str)"
   ]
  },
  {
   "cell_type": "code",
   "execution_count": 11,
   "metadata": {},
   "outputs": [
    {
     "name": "stdout",
     "output_type": "stream",
     "text": [
      "(1979, 15)\n",
      "(194, 15)\n"
     ]
    }
   ],
   "source": [
    "# Remove haemodialysis records\n",
    "pred_initial = cohort_initial[[\n",
    "    'Case No', 'Date', 'daily accept inj level_mod', 'in accept range_mod', 'Age',\n",
    "    'Weight_kg', 'Height_cm', 'SC_lasttime', 'Female',\n",
    "    'haemodialysis', 'tmp_min', 'tmp_max', 'Daily Dose'\n",
    "]].copy()\n",
    "pred_initial['Mod_SC'] = pred_initial['SC_lasttime'] * 0.01131222\n",
    "pred_initial['pred'] = -1\n",
    "print(pred_initial.shape)\n",
    "\n",
    "# Only haemodialysis records\n",
    "pred_initial_hae = cohort_initial[cohort_initial['haemodialysis']==True][[\n",
    "    'Case No', 'Date', 'daily accept inj level_mod', 'in accept range_mod', 'Age',\n",
    "    'Weight_kg', 'Height_cm', 'SC_lasttime', 'Female', \n",
    "    'haemodialysis', 'tmp_min', 'tmp_max', 'Daily Dose'\n",
    "]].copy()\n",
    "pred_initial_hae['Mod_SC'] = pred_initial_hae['SC_lasttime'] * 0.01131222\n",
    "pred_initial_hae['pred'] = -1\n",
    "print(pred_initial_hae.shape)"
   ]
  },
  {
   "cell_type": "markdown",
   "metadata": {},
   "source": [
    "### Subsequent Dose Group"
   ]
  },
  {
   "cell_type": "code",
   "execution_count": 12,
   "metadata": {},
   "outputs": [
    {
     "name": "stdout",
     "output_type": "stream",
     "text": [
      "(5363, 121)\n",
      "(361, 121)\n",
      "(5724, 121)\n"
     ]
    }
   ],
   "source": [
    "# Tmp Table 1: has proper vanco test and injection in specific time range\n",
    "tmp1 = data[~data['Prior Vancomycin Lab Level'].isna()].copy()  \n",
    "print(tmp1.shape)\n",
    "\n",
    "# Tmp Table 2: NOT have proper vanco test and injection in specific time range\n",
    "# need to ensure gap btw vanco test and injection in (5, 28) hours\n",
    "tmp2 = data[(data['Prior Vancomycin Lab Level'].isna()) & (~data['Actual Last Vanco Test'].isna()) & \n",
    "            (~data['tmp_Actual Prior Daily Dose before Actual Prior Vanco Test'].isna()) & \n",
    "            (data['Duration Since Actual Prior Daily Dose before Actual Prior Vanco Test'] >\n",
    "             data['Duration Since Actual Last Vanco Test'])].copy()\n",
    "tmp2['diff'] = tmp2['Duration Since Actual Prior Daily Dose before Actual Prior Vanco Test'] - tmp2[\n",
    "    'Duration Since Actual Last Vanco Test']\n",
    "tmp2 = tmp2[(tmp2['diff']>5) & (tmp2['diff']<28)]\n",
    "tmp2.drop(columns=['diff'], inplace=True)\n",
    "print(tmp2.shape)\n",
    "\n",
    "# Combination\n",
    "cohort_sub = pd.concat([tmp1, tmp2], axis=0)\n",
    "print(cohort_sub.shape)"
   ]
  },
  {
   "cell_type": "markdown",
   "metadata": {},
   "source": [
    "#### Patients w/ Vanco Test and Injection in Proper Time Range\n",
    "Add Prior Injection Dose Based on Prior Injection Frequency (Not the actual one)"
   ]
  },
  {
   "cell_type": "code",
   "execution_count": 13,
   "metadata": {},
   "outputs": [
    {
     "name": "stdout",
     "output_type": "stream",
     "text": [
      "(20467, 123)\n",
      "(5363, 123)\n",
      "(5363, 123)\n"
     ]
    }
   ],
   "source": [
    "tmp0 = data[['Case No', 'Date', 'Freq']].copy()\n",
    "tmp0.columns = ['Case No', 'Prior Inj Date', 'Prior Freq']\n",
    "\n",
    "tmp = pd.merge(tmp1, tmp0, on=['Case No'], how='left')\n",
    "tmp = tmp[tmp['Date'] > tmp['Prior Inj Date']]\n",
    "print(tmp.shape)\n",
    "\n",
    "tmp.sort_values(by=['Case No', 'Date', 'Prior Inj Date'],\n",
    "                ascending=True, inplace=True)\n",
    "tmp.drop_duplicates(subset=['Case No', 'Date'], keep='last', inplace=True)\n",
    "print(tmp.shape)\n",
    "\n",
    "tmp['Prior Inj Dose_Basedon Prior Freq'] = tmp['Prior Daily Dose'] / tmp['Prior Freq']\n",
    "tmp_comb1 = tmp.drop(columns=['Prior Inj Date'])\n",
    "print(tmp_comb1.shape)"
   ]
  },
  {
   "cell_type": "markdown",
   "metadata": {},
   "source": [
    "#### Patients w/o Vanco Test and Injection in Proper Time Range\n",
    "Add Prior Injection Dose Based on **Current** Injection Frequency (Not the actual one)"
   ]
  },
  {
   "cell_type": "code",
   "execution_count": 14,
   "metadata": {},
   "outputs": [
    {
     "name": "stdout",
     "output_type": "stream",
     "text": [
      "(361, 123)\n"
     ]
    }
   ],
   "source": [
    "tmp2['Prior Inj Dose_Basedon Prior Freq'] = tmp2['Actual Prior Daily Dose'] / tmp2['Freq']\n",
    "tmp2['Prior Freq'] = tmp2['Freq']\n",
    "tmp2['Prior Vancomycin Lab Level'] = tmp2['Actual Last Vanco Test']\n",
    "tmp_comb2 = tmp2.copy()\n",
    "print(tmp_comb2.shape)"
   ]
  },
  {
   "cell_type": "markdown",
   "metadata": {},
   "source": [
    "#### Combination"
   ]
  },
  {
   "cell_type": "code",
   "execution_count": 15,
   "metadata": {},
   "outputs": [
    {
     "name": "stdout",
     "output_type": "stream",
     "text": [
      "(5724, 123)\n"
     ]
    }
   ],
   "source": [
    "# Combination\n",
    "cohort_sub = pd.concat([tmp_comb1, tmp_comb2[tmp_comb1.columns]], axis=0)\n",
    "print(cohort_sub.shape)"
   ]
  },
  {
   "cell_type": "code",
   "execution_count": 16,
   "metadata": {},
   "outputs": [
    {
     "name": "stdout",
     "output_type": "stream",
     "text": [
      "(5724, 21)\n",
      "(326, 21)\n"
     ]
    }
   ],
   "source": [
    "# Remove haemodialysis records\n",
    "pred_sub = cohort_sub[[\n",
    "    'Case No', 'Date', 'daily accept inj level_mod', 'in accept range_mod', 'Age',\n",
    "    'Weight_kg', 'Height_cm', 'SC_lasttime', 'Female', \n",
    "     'Prior Vancomycin Lab Level', 'Freq', \n",
    "    'haemodialysis', 'Vancomycin Lab Level','tmp_min', 'tmp_max',\n",
    "    'Prior Freq', 'Prior Inj Dose_Basedon Prior Freq', 'Daily Dose'\n",
    "]].copy()\n",
    "pred_sub['interval_hr'] = 24/pred_sub['Prior Freq'] # Use prior freq, NOT current freq\n",
    "pred_sub['Mod_SC'] = pred_sub['SC_lasttime'] * 0.01131222\n",
    "pred_sub['pred'] = -1\n",
    "print(pred_sub.shape)\n",
    "\n",
    "# Only haemodialysis records\n",
    "pred_sub_hae = cohort_sub[cohort_sub['haemodialysis']==True][[\n",
    "    'Case No', 'Date', 'daily accept inj level_mod', 'in accept range_mod', 'Age',\n",
    "    'Weight_kg', 'Height_cm', 'SC_lasttime', 'Female', \n",
    "    'Prior Vancomycin Lab Level', 'Freq', \n",
    "    'haemodialysis', 'Vancomycin Lab Level', 'tmp_min', 'tmp_max',\n",
    "    'Prior Freq', 'Prior Inj Dose_Basedon Prior Freq', 'Daily Dose'\n",
    "]].copy()\n",
    "pred_sub_hae['interval_hr'] = 24/pred_sub_hae['Prior Freq']\n",
    "pred_sub_hae['Mod_SC'] = pred_sub_hae['SC_lasttime'] * 0.01131222\n",
    "pred_sub_hae['pred'] = -1\n",
    "print(pred_sub_hae.shape)"
   ]
  },
  {
   "cell_type": "markdown",
   "metadata": {},
   "source": [
    "# Prediction"
   ]
  },
  {
   "cell_type": "markdown",
   "metadata": {},
   "source": [
    "## Initial Dose"
   ]
  },
  {
   "cell_type": "markdown",
   "metadata": {},
   "source": [
    "### All"
   ]
  },
  {
   "cell_type": "code",
   "execution_count": 17,
   "metadata": {
    "scrolled": false
   },
   "outputs": [
    {
     "name": "stderr",
     "output_type": "stream",
     "text": [
      "100%|████████████████████████████████████████████████████████████████████████████| 1979/1979 [00:00<00:00, 2703.34it/s]\n"
     ]
    }
   ],
   "source": [
    "for i in tqdm.tqdm(range(pred_initial.shape[0])):\n",
    "    pred_initial['pred'].iloc[i] = initial_dose(\n",
    "        Age_yr=pred_initial['Age'].iloc[i],\n",
    "        Weight_kg=pred_initial['Weight_kg'].iloc[i],\n",
    "        Height_cm=pred_initial['Height_cm'].iloc[i],\n",
    "        SCr=pred_initial['Mod_SC'].iloc[i],\n",
    "        Female=pred_initial['Female'].iloc[i],\n",
    "        Method=2\n",
    "    )[0]\n",
    "    \n",
    "pred_initial.loc[pred_initial['haemodialysis']==True, 'pred'] = pred_initial.loc[\n",
    "    pred_initial['haemodialysis']==True, 'Weight_kg'] * 15"
   ]
  },
  {
   "cell_type": "code",
   "execution_count": 18,
   "metadata": {
    "scrolled": false
   },
   "outputs": [
    {
     "data": {
      "text/plain": [
       "[6633.9, 6]"
      ]
     },
     "execution_count": 18,
     "metadata": {},
     "output_type": "execute_result"
    }
   ],
   "source": [
    "initial_dose(Age_yr=60, Weight_kg=116, Height_cm=151, SCr=0.248869, Female=1, Method=2)"
   ]
  },
  {
   "cell_type": "code",
   "execution_count": 19,
   "metadata": {
    "scrolled": true
   },
   "outputs": [
    {
     "data": {
      "text/plain": [
       "count    1979.000000\n",
       "mean     1683.939970\n",
       "std      1020.750085\n",
       "min       250.000000\n",
       "25%       960.600000\n",
       "50%      1395.800000\n",
       "75%      2170.650000\n",
       "max      8000.000000\n",
       "Name: pred, dtype: float64"
      ]
     },
     "execution_count": 19,
     "metadata": {},
     "output_type": "execute_result"
    }
   ],
   "source": [
    "pred_initial['pred'].describe()"
   ]
  },
  {
   "cell_type": "markdown",
   "metadata": {},
   "source": [
    "**Prediction in acceptable range**"
   ]
  },
  {
   "cell_type": "code",
   "execution_count": 20,
   "metadata": {},
   "outputs": [],
   "source": [
    "pred_initial['pred_in accept range'] = False\n",
    "pred_initial.loc[(pred_initial['pred'] > pred_initial['tmp_min']) &\n",
    "                 (pred_initial['pred'] < pred_initial['tmp_max']),\n",
    "                 'pred_in accept range'] = True"
   ]
  },
  {
   "cell_type": "code",
   "execution_count": 21,
   "metadata": {
    "scrolled": false
   },
   "outputs": [
    {
     "data": {
      "text/plain": [
       "False    0.717029\n",
       "True     0.282971\n",
       "Name: pred_in accept range, dtype: float64"
      ]
     },
     "execution_count": 21,
     "metadata": {},
     "output_type": "execute_result"
    }
   ],
   "source": [
    "pred_initial['pred_in accept range'].value_counts(normalize=True)"
   ]
  },
  {
   "cell_type": "code",
   "execution_count": 22,
   "metadata": {
    "scrolled": false
   },
   "outputs": [
    {
     "data": {
      "text/plain": [
       "<matplotlib.patches.Circle at 0x2183bf89288>"
      ]
     },
     "execution_count": 22,
     "metadata": {},
     "output_type": "execute_result"
    },
    {
     "data": {
      "image/png": "[encoded data removed]",
      "text/plain": [
       "<Figure size 288x288 with 1 Axes>"
      ]
     },
     "metadata": {},
     "output_type": "display_data"
    }
   ],
   "source": [
    "# Initial dosing + Remove\n",
    "figdata = pd.DataFrame(pred_initial['pred_in accept range'].value_counts().reset_index()).rename(\n",
    "    columns={'pred_in accept range': 'Records'})\n",
    "\n",
    "figdata['Label_Rec'] = [str(round(figdata.iloc[0]['Records']/figdata['Records'].sum()*100, 1)) + '%',\n",
    "                        str(round(figdata.iloc[1]['Records']/figdata['Records'].sum()*100, 1)) + '%']\n",
    "figdata.sort_values(by=['index'], ascending=True, inplace=True)\n",
    "\n",
    "fig, ax = plt.subplots(figsize=(4,4))\n",
    "\n",
    "plt.pie(x=figdata['Records'],\n",
    "        labels=figdata['Label_Rec'],\n",
    "        colors=['dodgerblue', 'palegreen'],\n",
    "        startangle=90,\n",
    "        radius=2,\n",
    "        labeldistance=0.7,\n",
    "        textprops = {'fontsize':15, 'color': 'black'},\n",
    "        wedgeprops = {'edgecolor': 'grey', 'linewidth': 3}\n",
    "       )\n",
    "\n",
    "center1 = plt.Circle((0, 0), 1.2, fc='white', color='grey', linewidth=3)\n",
    "ax.add_artist(center1)"
   ]
  },
  {
   "cell_type": "code",
   "execution_count": 23,
   "metadata": {
    "scrolled": true
   },
   "outputs": [
    {
     "data": {
      "text/plain": [
       "Text(0, 0.5, 'No. of Records')"
      ]
     },
     "execution_count": 23,
     "metadata": {},
     "output_type": "execute_result"
    },
    {
     "data": {
      "image/png": "[encoded data removed]",
      "text/plain": [
       "<Figure size 432x432 with 1 Axes>"
      ]
     },
     "metadata": {
      "needs_background": "light"
     },
     "output_type": "display_data"
    }
   ],
   "source": [
    "fig, ax = plt.subplots(figsize=(6, 6))\n",
    "\n",
    "plt.hist(pred_initial[pred_initial['pred']<7000]['pred'], alpha=0.3)\n",
    "plt.hist(pred_initial['daily accept inj level_mod'], alpha=0.3)\n",
    "\n",
    "ax.set_xlim(0, 7000)\n",
    "ax.legend(labels=['Predicted Daily Level', \n",
    "                  'Target Daily Level'])\n",
    "ax.set_xlabel('Daily Dose (mg)', size=12)\n",
    "ax.set_ylabel('No. of Records', size=12)"
   ]
  },
  {
   "cell_type": "markdown",
   "metadata": {},
   "source": [
    "### Haemodialysis"
   ]
  },
  {
   "cell_type": "code",
   "execution_count": 24,
   "metadata": {},
   "outputs": [],
   "source": [
    "pred_initial_hae['pred'] = 15 * pred_initial_hae['Weight_kg']"
   ]
  },
  {
   "cell_type": "code",
   "execution_count": 25,
   "metadata": {},
   "outputs": [],
   "source": [
    "pred_initial_hae['pred_in accept range'] = False\n",
    "pred_initial_hae.loc[(pred_initial_hae['pred'] > pred_initial_hae['tmp_min']) &\n",
    "                 (pred_initial_hae['pred'] < pred_initial_hae['tmp_max']),\n",
    "                 'pred_in accept range'] = True"
   ]
  },
  {
   "cell_type": "code",
   "execution_count": 26,
   "metadata": {
    "scrolled": false
   },
   "outputs": [
    {
     "data": {
      "text/plain": [
       "False    0.556701\n",
       "True     0.443299\n",
       "Name: pred_in accept range, dtype: float64"
      ]
     },
     "execution_count": 26,
     "metadata": {},
     "output_type": "execute_result"
    }
   ],
   "source": [
    "pred_initial_hae['pred_in accept range'].value_counts(normalize=True)"
   ]
  },
  {
   "cell_type": "code",
   "execution_count": 27,
   "metadata": {
    "scrolled": false
   },
   "outputs": [
    {
     "data": {
      "text/plain": [
       "<matplotlib.patches.Circle at 0x2183c2cf448>"
      ]
     },
     "execution_count": 27,
     "metadata": {},
     "output_type": "execute_result"
    },
    {
     "data": {
      "image/png": "[encoded data removed]",
      "text/plain": [
       "<Figure size 288x288 with 1 Axes>"
      ]
     },
     "metadata": {},
     "output_type": "display_data"
    }
   ],
   "source": [
    "# Initial dosing + Remove\n",
    "figdata = pd.DataFrame(pred_initial_hae['pred_in accept range'].value_counts().reset_index()).rename(\n",
    "    columns={'pred_in accept range': 'Records'})\n",
    "\n",
    "figdata['Label_Rec'] = [str(round(figdata.iloc[0]['Records']/figdata['Records'].sum()*100, 1)) + '%',\n",
    "                        str(round(figdata.iloc[1]['Records']/figdata['Records'].sum()*100, 1)) + '%']\n",
    "figdata.sort_values(by=['index'], ascending=True, inplace=True)\n",
    "\n",
    "fig, ax = plt.subplots(figsize=(4,4))\n",
    "\n",
    "plt.pie(x=figdata['Records'],\n",
    "        labels=figdata['Label_Rec'],\n",
    "        colors=['dodgerblue', 'palegreen'],\n",
    "        startangle=90,\n",
    "        radius=2,\n",
    "        labeldistance=0.7,\n",
    "        textprops = {'fontsize':15, 'color': 'black'},\n",
    "        wedgeprops = {'edgecolor': 'grey', 'linewidth': 3}\n",
    "       )\n",
    "\n",
    "center1 = plt.Circle((0, 0), 1.2, fc='white', color='grey', linewidth=3)\n",
    "ax.add_artist(center1)"
   ]
  },
  {
   "cell_type": "code",
   "execution_count": 28,
   "metadata": {
    "scrolled": true
   },
   "outputs": [
    {
     "data": {
      "text/plain": [
       "Text(0, 0.5, 'No. of Records')"
      ]
     },
     "execution_count": 28,
     "metadata": {},
     "output_type": "execute_result"
    },
    {
     "data": {
      "image/png": "[encoded data removed]",
      "text/plain": [
       "<Figure size 432x432 with 1 Axes>"
      ]
     },
     "metadata": {
      "needs_background": "light"
     },
     "output_type": "display_data"
    }
   ],
   "source": [
    "fig, ax = plt.subplots(figsize=(6, 6))\n",
    "\n",
    "plt.hist(pred_initial_hae['pred'], alpha=0.3, bins=6)\n",
    "plt.hist(pred_initial_hae['daily accept inj level_mod'], alpha=0.3, bins=12)\n",
    "\n",
    "ax.set_xlim(0, 4000)\n",
    "ax.legend(labels=['Predicted Daily Level', \n",
    "                  'Target Daily Level'])\n",
    "ax.set_xlabel('Daily Dose (mg)', size=12)\n",
    "ax.set_ylabel('No. of Records', size=12)"
   ]
  },
  {
   "cell_type": "markdown",
   "metadata": {},
   "source": [
    "## Subsequent Dose"
   ]
  },
  {
   "cell_type": "markdown",
   "metadata": {},
   "source": [
    "### All"
   ]
  },
  {
   "cell_type": "code",
   "execution_count": 29,
   "metadata": {},
   "outputs": [
    {
     "name": "stderr",
     "output_type": "stream",
     "text": [
      "100%|████████████████████████████████████████████████████████████████████████████| 5724/5724 [00:02<00:00, 2376.52it/s]\n"
     ]
    }
   ],
   "source": [
    "for i in tqdm.tqdm(range(pred_sub.shape[0])):\n",
    "    pred_sub['pred'].iloc[i] = single_level_dose(\n",
    "        Age_yr=pred_sub['Age'].iloc[i],\n",
    "        Weight_kg=pred_sub['Weight_kg'].iloc[i],\n",
    "        Height_cm=pred_sub['Height_cm'].iloc[i],\n",
    "        SCr=pred_sub['Mod_SC'].iloc[i],\n",
    "        Female=pred_sub['Female'].iloc[i],\n",
    "        Interval_hr=pred_sub['interval_hr'].iloc[i],\n",
    "        Trough_level=pred_sub['Prior Vancomycin Lab Level'].iloc[i],\n",
    "        Prior_Vanco_level=pred_sub['Prior Inj Dose_Basedon Prior Freq'].iloc[i]\n",
    "    )[0]\n",
    "    \n",
    "pred_sub.loc[pred_sub['haemodialysis']==True, 'pred'] = pred_sub.loc[\n",
    "    pred_sub['haemodialysis']==True, 'Weight_kg'] * 15"
   ]
  },
  {
   "cell_type": "code",
   "execution_count": 30,
   "metadata": {
    "scrolled": true
   },
   "outputs": [
    {
     "data": {
      "text/plain": [
       "count    5724.000000\n",
       "mean     2049.892213\n",
       "std      1057.060918\n",
       "min       250.000000\n",
       "25%      1250.000000\n",
       "50%      1848.600000\n",
       "75%      2597.125000\n",
       "max      8000.000000\n",
       "Name: pred, dtype: float64"
      ]
     },
     "execution_count": 30,
     "metadata": {},
     "output_type": "execute_result"
    }
   ],
   "source": [
    "pred_sub['pred'].describe()"
   ]
  },
  {
   "cell_type": "code",
   "execution_count": 31,
   "metadata": {},
   "outputs": [
    {
     "data": {
      "text/plain": [
       "[7961.1, 6]"
      ]
     },
     "execution_count": 31,
     "metadata": {},
     "output_type": "execute_result"
    }
   ],
   "source": [
    "single_level_dose(Age_yr=39, Weight_kg=54.3, Height_cm=152, SCr=0.373303, Female=1, \n",
    "                  Interval_hr=8, Trough_level =3.7, Prior_Vanco_level = 750)"
   ]
  },
  {
   "cell_type": "markdown",
   "metadata": {},
   "source": [
    "**Prediction in acceptable range**"
   ]
  },
  {
   "cell_type": "code",
   "execution_count": 32,
   "metadata": {},
   "outputs": [],
   "source": [
    "pred_sub['pred_in accept range'] = False\n",
    "pred_sub.loc[(pred_sub['pred'] > pred_sub['tmp_min']) &\n",
    "             (pred_sub['pred'] < pred_sub['tmp_max']),\n",
    "             'pred_in accept range'] = True"
   ]
  },
  {
   "cell_type": "code",
   "execution_count": 33,
   "metadata": {},
   "outputs": [
    {
     "data": {
      "text/plain": [
       "True     0.604472\n",
       "False    0.395528\n",
       "Name: pred_in accept range, dtype: float64"
      ]
     },
     "execution_count": 33,
     "metadata": {},
     "output_type": "execute_result"
    }
   ],
   "source": [
    "pred_sub['pred_in accept range'].value_counts(normalize=True)"
   ]
  },
  {
   "cell_type": "code",
   "execution_count": 34,
   "metadata": {
    "scrolled": false
   },
   "outputs": [
    {
     "data": {
      "text/plain": [
       "<matplotlib.patches.Circle at 0x2183c3e3408>"
      ]
     },
     "execution_count": 34,
     "metadata": {},
     "output_type": "execute_result"
    },
    {
     "data": {
      "image/png": "[encoded data removed]",
      "text/plain": [
       "<Figure size 288x288 with 1 Axes>"
      ]
     },
     "metadata": {},
     "output_type": "display_data"
    }
   ],
   "source": [
    "# Initial dosing + Remove\n",
    "figdata = pd.DataFrame(pred_sub['pred_in accept range'].value_counts().reset_index()).rename(\n",
    "    columns={'pred_in accept range': 'Records'})\n",
    "\n",
    "figdata['Label_Rec'] = [str(round(figdata.iloc[0]['Records']/figdata['Records'].sum()*100, 1)) + '%',\n",
    "                        str(round(figdata.iloc[1]['Records']/figdata['Records'].sum()*100, 1)) + '%']\n",
    "figdata.sort_values(by=['index'], ascending=True, inplace=True)\n",
    "\n",
    "fig, ax = plt.subplots(figsize=(4,4))\n",
    "\n",
    "plt.pie(x=figdata['Records'],\n",
    "        labels=figdata['Label_Rec'],\n",
    "        colors=['dodgerblue', 'palegreen'],\n",
    "        startangle=90,\n",
    "        radius=2,\n",
    "        labeldistance=0.7,\n",
    "        textprops = {'fontsize':15, 'color': 'black'},\n",
    "        wedgeprops = {'edgecolor': 'grey', 'linewidth': 3}\n",
    "       )\n",
    "\n",
    "center1 = plt.Circle((0, 0), 1.2, fc='white', color='grey', linewidth=3)\n",
    "ax.add_artist(center1)"
   ]
  },
  {
   "cell_type": "code",
   "execution_count": 35,
   "metadata": {
    "scrolled": true
   },
   "outputs": [
    {
     "name": "stdout",
     "output_type": "stream",
     "text": [
      "5724 - 5717 = 7\n"
     ]
    },
    {
     "data": {
      "text/plain": [
       "Text(0, 0.5, 'No. of Records')"
      ]
     },
     "execution_count": 35,
     "metadata": {},
     "output_type": "execute_result"
    },
    {
     "data": {
      "image/png": "[encoded data removed]",
      "text/plain": [
       "<Figure size 432x432 with 1 Axes>"
      ]
     },
     "metadata": {
      "needs_background": "light"
     },
     "output_type": "display_data"
    }
   ],
   "source": [
    "figdata = pred_sub[pred_sub['pred'] <= 7000]\n",
    "print(str(pred_sub.shape[0]) + ' - ' + str(figdata.shape[0]) + ' = ' + str(\n",
    "    pred_sub.shape[0] - figdata.shape[0]))\n",
    "\n",
    "fig, ax = plt.subplots(figsize=(6, 6))\n",
    "\n",
    "plt.hist(figdata['pred'], alpha=0.3)\n",
    "plt.hist(figdata['daily accept inj level_mod'], alpha=0.3)\n",
    "\n",
    "ax.set_xlim(0, 8000)\n",
    "ax.legend(labels=['Predicted Daily Level', \n",
    "                  'Target Daily Level'])\n",
    "ax.set_xlabel('Daily Dose (mg)', size=12)\n",
    "ax.set_ylabel('No. of Records', size=12)"
   ]
  },
  {
   "cell_type": "markdown",
   "metadata": {},
   "source": [
    "### Haemodialysis"
   ]
  },
  {
   "cell_type": "code",
   "execution_count": 36,
   "metadata": {},
   "outputs": [
    {
     "data": {
      "text/plain": [
       "(326, 21)"
      ]
     },
     "execution_count": 36,
     "metadata": {},
     "output_type": "execute_result"
    }
   ],
   "source": [
    "pred_sub_hae['pred'] = 15 * pred_sub_hae['Weight_kg']\n",
    "pred_sub_hae.shape"
   ]
  },
  {
   "cell_type": "code",
   "execution_count": 37,
   "metadata": {},
   "outputs": [],
   "source": [
    "pred_sub_hae['pred_in accept range'] = False\n",
    "pred_sub_hae.loc[(pred_sub_hae['pred'] > pred_sub_hae['tmp_min']) &\n",
    "                 (pred_sub_hae['pred'] < pred_sub_hae['tmp_max']),\n",
    "                 'pred_in accept range'] = True"
   ]
  },
  {
   "cell_type": "code",
   "execution_count": 38,
   "metadata": {
    "scrolled": true
   },
   "outputs": [
    {
     "data": {
      "text/plain": [
       "False    212\n",
       "True     114\n",
       "Name: pred_in accept range, dtype: int64"
      ]
     },
     "execution_count": 38,
     "metadata": {},
     "output_type": "execute_result"
    }
   ],
   "source": [
    "pred_sub_hae['pred_in accept range'].value_counts()"
   ]
  },
  {
   "cell_type": "code",
   "execution_count": 39,
   "metadata": {
    "scrolled": true
   },
   "outputs": [
    {
     "data": {
      "text/plain": [
       "<matplotlib.patches.Circle at 0x2183c4cfd08>"
      ]
     },
     "execution_count": 39,
     "metadata": {},
     "output_type": "execute_result"
    },
    {
     "data": {
      "image/png": "[encoded data removed]",
      "text/plain": [
       "<Figure size 288x288 with 1 Axes>"
      ]
     },
     "metadata": {},
     "output_type": "display_data"
    }
   ],
   "source": [
    "# Initial dosing + Remove\n",
    "figdata = pd.DataFrame(pred_sub_hae['pred_in accept range'].value_counts().reset_index()).rename(\n",
    "    columns={'pred_in accept range': 'Records'})\n",
    "\n",
    "figdata['Label_Rec'] = [str(round(figdata.iloc[0]['Records']/figdata['Records'].sum()*100, 1)) + '%',\n",
    "                        str(round(figdata.iloc[1]['Records']/figdata['Records'].sum()*100, 1)) + '%']\n",
    "figdata.sort_values(by=['index'], ascending=True, inplace=True)\n",
    "\n",
    "fig, ax = plt.subplots(figsize=(4,4))\n",
    "\n",
    "plt.pie(x=figdata['Records'],\n",
    "        labels=figdata['Label_Rec'],\n",
    "        colors=['dodgerblue', 'palegreen'],\n",
    "        startangle=90,\n",
    "        radius=2,\n",
    "        labeldistance=0.7,\n",
    "        textprops = {'fontsize':15, 'color': 'black'},\n",
    "        wedgeprops = {'edgecolor': 'grey', 'linewidth': 3}\n",
    "       )\n",
    "\n",
    "center1 = plt.Circle((0, 0), 1.2, fc='white', color='grey', linewidth=3)\n",
    "ax.add_artist(center1)"
   ]
  },
  {
   "cell_type": "code",
   "execution_count": 40,
   "metadata": {
    "scrolled": false
   },
   "outputs": [
    {
     "data": {
      "text/plain": [
       "Text(0, 0.5, 'No. of Records')"
      ]
     },
     "execution_count": 40,
     "metadata": {},
     "output_type": "execute_result"
    },
    {
     "data": {
      "image/png": "[encoded data removed]",
      "text/plain": [
       "<Figure size 432x432 with 1 Axes>"
      ]
     },
     "metadata": {
      "needs_background": "light"
     },
     "output_type": "display_data"
    }
   ],
   "source": [
    "fig, ax = plt.subplots(figsize=(6, 6))\n",
    "\n",
    "plt.hist(pred_sub_hae['pred'], alpha=0.3, bins=6)\n",
    "plt.hist(pred_sub_hae['daily accept inj level_mod'], alpha=0.3, bins=12)\n",
    "\n",
    "ax.set_xlim(0, 7000)\n",
    "ax.legend(labels=['Predicted Daily Level', \n",
    "                  'Target Daily Level'])\n",
    "ax.set_xlabel('Daily Dose (mg)', size=12)\n",
    "ax.set_ylabel('No. of Records', size=12)"
   ]
  },
  {
   "cell_type": "code",
   "execution_count": null,
   "metadata": {},
   "outputs": [],
   "source": []
  }
 ],
 "metadata": {
  "kernelspec": {
   "display_name": "Python 3",
   "language": "python",
   "name": "python3"
  },
  "language_info": {
   "codemirror_mode": {
    "name": "ipython",
    "version": 3
   },
   "file_extension": ".py",
   "mimetype": "text/x-python",
   "name": "python",
   "nbconvert_exporter": "python",
   "pygments_lexer": "ipython3",
   "version": "3.7.4"
  },
  "toc": {
   "base_numbering": 1,
   "nav_menu": {},
   "number_sections": true,
   "sideBar": true,
   "skip_h1_title": false,
   "title_cell": "Table of Contents",
   "title_sidebar": "Contents",
   "toc_cell": false,
   "toc_position": {
    "height": "calc(100% - 180px)",
    "left": "10px",
    "top": "150px",
    "width": "165px"
   },
   "toc_section_display": true,
   "toc_window_display": true
  }
 },
 "nbformat": 4,
 "nbformat_minor": 2
}
